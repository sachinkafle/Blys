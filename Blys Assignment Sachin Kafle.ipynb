{
 "cells": [
  {
   "cell_type": "markdown",
   "metadata": {},
   "source": [
    "## Customer Behavior Analysis Report"
   ]
  },
  {
   "cell_type": "markdown",
   "metadata": {},
   "source": [
    "**Assignment Overview: <br>\n",
    "This report analyzes customer interactions, spending behavior, and sentiment to provide actionable insights**"
   ]
  },
  {
   "cell_type": "markdown",
   "metadata": {},
   "source": [
    "Since the dataset is not provided, We are going to generate synthetic data for analysis"
   ]
  },
  {
   "cell_type": "code",
   "execution_count": 47,
   "metadata": {
    "id": "tKBRtYEiffFp"
   },
   "outputs": [],
   "source": [
    "import numpy as np\n",
    "import pandas as pd"
   ]
  },
  {
   "cell_type": "code",
   "execution_count": 48,
   "metadata": {
    "id": "a92xFnYGeVQT"
   },
   "outputs": [],
   "source": [
    "np.random.seed(42)  # so that result matches\n",
    "\n",
    "num_customers = 20  # Number of customers for this analysis, I have generated this randomly\n",
    "\n",
    "customer_data = pd.DataFrame({\n",
    "    \"Customer_ID\": np.arange(1001, 1001 + num_customers),  # Unique IDs\n",
    "    \"Booking_Frequency\": np.random.randint(1, 10, num_customers),  # Random bookings\n",
    "    \"Avg_Spending\": np.random.randint(50, 500, num_customers),  # Random spending\n",
    "    \"Preferred_Service\": np.random.choice([\"Massage\", \"Facial\", \"Wellness Package\", \"Therapy\"], num_customers),\n",
    "    \"Review_Text\": np.random.choice(\n",
    "        [\"Loved it!\", \"Too expensive\", \"Highly recommend\", \"Not satisfied\", \"Great service\", \"Would book again\"],\n",
    "        num_customers\n",
    "    ),\n",
    "    \"Last_Activity\": pd.date_range(start=\"2024-01-01\", periods=num_customers, freq='D').astype(str)  # Dates from Jan 1\n",
    "})\n"
   ]
  },
  {
   "cell_type": "code",
   "execution_count": 49,
   "metadata": {
    "colab": {
     "base_uri": "https://localhost:8080/",
     "height": 206
    },
    "id": "YMq6FF_leVIq",
    "outputId": "457ce593-928a-4531-d8a2-cdeafd86277a"
   },
   "outputs": [
    {
     "data": {
      "text/html": [
       "<div>\n",
       "<style scoped>\n",
       "    .dataframe tbody tr th:only-of-type {\n",
       "        vertical-align: middle;\n",
       "    }\n",
       "\n",
       "    .dataframe tbody tr th {\n",
       "        vertical-align: top;\n",
       "    }\n",
       "\n",
       "    .dataframe thead th {\n",
       "        text-align: right;\n",
       "    }\n",
       "</style>\n",
       "<table border=\"1\" class=\"dataframe\">\n",
       "  <thead>\n",
       "    <tr style=\"text-align: right;\">\n",
       "      <th></th>\n",
       "      <th>Customer_ID</th>\n",
       "      <th>Booking_Frequency</th>\n",
       "      <th>Avg_Spending</th>\n",
       "      <th>Preferred_Service</th>\n",
       "      <th>Review_Text</th>\n",
       "      <th>Last_Activity</th>\n",
       "    </tr>\n",
       "  </thead>\n",
       "  <tbody>\n",
       "    <tr>\n",
       "      <th>0</th>\n",
       "      <td>1001</td>\n",
       "      <td>7</td>\n",
       "      <td>210</td>\n",
       "      <td>Massage</td>\n",
       "      <td>Not satisfied</td>\n",
       "      <td>2024-01-01</td>\n",
       "    </tr>\n",
       "    <tr>\n",
       "      <th>1</th>\n",
       "      <td>1002</td>\n",
       "      <td>4</td>\n",
       "      <td>363</td>\n",
       "      <td>Wellness Package</td>\n",
       "      <td>Not satisfied</td>\n",
       "      <td>2024-01-02</td>\n",
       "    </tr>\n",
       "    <tr>\n",
       "      <th>2</th>\n",
       "      <td>1003</td>\n",
       "      <td>8</td>\n",
       "      <td>71</td>\n",
       "      <td>Massage</td>\n",
       "      <td>Not satisfied</td>\n",
       "      <td>2024-01-03</td>\n",
       "    </tr>\n",
       "    <tr>\n",
       "      <th>3</th>\n",
       "      <td>1004</td>\n",
       "      <td>5</td>\n",
       "      <td>302</td>\n",
       "      <td>Wellness Package</td>\n",
       "      <td>Great service</td>\n",
       "      <td>2024-01-04</td>\n",
       "    </tr>\n",
       "    <tr>\n",
       "      <th>4</th>\n",
       "      <td>1005</td>\n",
       "      <td>7</td>\n",
       "      <td>285</td>\n",
       "      <td>Wellness Package</td>\n",
       "      <td>Highly recommend</td>\n",
       "      <td>2024-01-05</td>\n",
       "    </tr>\n",
       "  </tbody>\n",
       "</table>\n",
       "</div>"
      ],
      "text/plain": [
       "   Customer_ID  Booking_Frequency  Avg_Spending Preferred_Service  \\\n",
       "0         1001                  7           210           Massage   \n",
       "1         1002                  4           363  Wellness Package   \n",
       "2         1003                  8            71           Massage   \n",
       "3         1004                  5           302  Wellness Package   \n",
       "4         1005                  7           285  Wellness Package   \n",
       "\n",
       "        Review_Text Last_Activity  \n",
       "0     Not satisfied    2024-01-01  \n",
       "1     Not satisfied    2024-01-02  \n",
       "2     Not satisfied    2024-01-03  \n",
       "3     Great service    2024-01-04  \n",
       "4  Highly recommend    2024-01-05  "
      ]
     },
     "execution_count": 49,
     "metadata": {},
     "output_type": "execute_result"
    }
   ],
   "source": [
    "customer_data.head()"
   ]
  },
  {
   "cell_type": "code",
   "execution_count": 50,
   "metadata": {
    "colab": {
     "base_uri": "https://localhost:8080/",
     "height": 272
    },
    "id": "u0Ij3ICTeU_O",
    "outputId": "a97cc28d-5e3b-481f-bd68-2497c735c91a"
   },
   "outputs": [
    {
     "data": {
      "text/plain": [
       "Customer_ID          0\n",
       "Booking_Frequency    0\n",
       "Avg_Spending         0\n",
       "Preferred_Service    0\n",
       "Review_Text          0\n",
       "Last_Activity        0\n",
       "dtype: int64"
      ]
     },
     "execution_count": 50,
     "metadata": {},
     "output_type": "execute_result"
    }
   ],
   "source": [
    "# 1. since our data does not contain missing values\n",
    "\n",
    "customer_data.isna().sum()"
   ]
  },
  {
   "cell_type": "code",
   "execution_count": 51,
   "metadata": {
    "colab": {
     "base_uri": "https://localhost:8080/"
    },
    "id": "XIW_YUnDehMg",
    "outputId": "4fed5923-b12d-47b3-d520-68e7495629fa"
   },
   "outputs": [
    {
     "name": "stderr",
     "output_type": "stream",
     "text": [
      "C:\\Users\\sachi\\AppData\\Local\\Temp\\ipykernel_17424\\2577940435.py:3: SettingWithCopyWarning: \n",
      "A value is trying to be set on a copy of a slice from a DataFrame\n",
      "\n",
      "See the caveats in the documentation: https://pandas.pydata.org/pandas-docs/stable/user_guide/indexing.html#returning-a-view-versus-a-copy\n",
      "  customer_data[\"Avg_Spending\"][3:5] = np.nan\n"
     ]
    }
   ],
   "source": [
    "# let me add NA (missing data) explicitly\n",
    "\n",
    "customer_data[\"Avg_Spending\"][3:5] = np.nan"
   ]
  },
  {
   "cell_type": "code",
   "execution_count": 52,
   "metadata": {
    "colab": {
     "base_uri": "https://localhost:8080/",
     "height": 272
    },
    "id": "7Qj56FrieUog",
    "outputId": "77b40ffc-6d16-4466-e4a3-7715a200647c"
   },
   "outputs": [
    {
     "data": {
      "text/plain": [
       "Customer_ID          0\n",
       "Booking_Frequency    0\n",
       "Avg_Spending         2\n",
       "Preferred_Service    0\n",
       "Review_Text          0\n",
       "Last_Activity        0\n",
       "dtype: int64"
      ]
     },
     "execution_count": 52,
     "metadata": {},
     "output_type": "execute_result"
    }
   ],
   "source": [
    "customer_data.isna().sum()"
   ]
  },
  {
   "cell_type": "code",
   "execution_count": 53,
   "metadata": {
    "colab": {
     "base_uri": "https://localhost:8080/",
     "height": 430
    },
    "id": "_fL6NIVgek56",
    "outputId": "e6be6ae8-c38f-44c5-ce16-cd071ed41c52"
   },
   "outputs": [
    {
     "data": {
      "image/png": "[encoded data removed]",
      "text/plain": [
       "<Figure size 640x480 with 1 Axes>"
      ]
     },
     "metadata": {},
     "output_type": "display_data"
    }
   ],
   "source": [
    "# Now there is two NA's\n",
    "# lets handle it\n",
    "\n",
    "#!pip install matplotlib\n",
    "\n",
    "import matplotlib.pyplot as plt\n",
    "plt.boxplot(customer_data[\"Avg_Spending\"].dropna());\n"
   ]
  },
  {
   "cell_type": "markdown",
   "metadata": {},
   "source": [
    "##### **Interpretation**: From the figure above, we can see that distribution of Average Spending is positively skewed, thus we will fillNA with median.As median is central tendency in positive skewed data"
   ]
  },
  {
   "cell_type": "code",
   "execution_count": 54,
   "metadata": {
    "id": "z6u8TIcrek2e"
   },
   "outputs": [],
   "source": [
    "customer_data[\"Avg_Spending\"] = customer_data[\"Avg_Spending\"].fillna(customer_data[\"Avg_Spending\"].median())"
   ]
  },
  {
   "cell_type": "code",
   "execution_count": 55,
   "metadata": {
    "colab": {
     "base_uri": "https://localhost:8080/",
     "height": 272
    },
    "id": "ZnACDwpgekzL",
    "outputId": "8826ebba-30e4-4acf-a978-a172a56d19b9"
   },
   "outputs": [
    {
     "data": {
      "text/plain": [
       "Customer_ID          0\n",
       "Booking_Frequency    0\n",
       "Avg_Spending         0\n",
       "Preferred_Service    0\n",
       "Review_Text          0\n",
       "Last_Activity        0\n",
       "dtype: int64"
      ]
     },
     "execution_count": 55,
     "metadata": {},
     "output_type": "execute_result"
    }
   ],
   "source": [
    "customer_data.isna().sum()"
   ]
  },
  {
   "cell_type": "code",
   "execution_count": 56,
   "metadata": {
    "id": "98E2nNb3ekvY"
   },
   "outputs": [],
   "source": [
    "# now let us normalize numerical features, as they can be in different scales, and analysis on different scales can hinder the\n",
    "# analysis\n",
    "\n",
    "\n",
    "# Here we are using Z normalization, as this is appropriate for the numerical features\n",
    "\n",
    "from sklearn.preprocessing import StandardScaler\n",
    "\n",
    "scaler = StandardScaler()\n",
    "customer_data[[\"Booking_Frequency\", \"Avg_Spending\"]] = scaler.fit_transform(customer_data[[\"Booking_Frequency\", \"Avg_Spending\"]])\n"
   ]
  },
  {
   "cell_type": "code",
   "execution_count": null,
   "metadata": {},
   "outputs": [],
   "source": []
  },
  {
   "cell_type": "code",
   "execution_count": 57,
   "metadata": {},
   "outputs": [],
   "source": [
    "# !pip install textblob"
   ]
  },
  {
   "cell_type": "code",
   "execution_count": 58,
   "metadata": {},
   "outputs": [],
   "source": [
    "# We analyze the sentiment of each review to understand customer satisfaction levels.\n",
    "#TextBlob is used to calculate sentiment polarity:\n",
    "\n",
    "# Positive score → Happy customer\n",
    "# Negative score → Unhappy customer\n",
    "\n",
    "# Neutral score → Indifferent customer"
   ]
  },
  {
   "cell_type": "code",
   "execution_count": 59,
   "metadata": {
    "id": "4RnQouwWeksg"
   },
   "outputs": [],
   "source": [
    "from textblob import TextBlob\n",
    "\n",
    "def get_sentiment(text):\n",
    "    return TextBlob(text).sentiment.polarity  # Returns a sentiment score (-1 to 1)\n",
    "\n",
    "customer_data[\"Sentiment_Score\"] = customer_data[\"Review_Text\"].apply(get_sentiment)\n"
   ]
  },
  {
   "cell_type": "code",
   "execution_count": 60,
   "metadata": {
    "colab": {
     "base_uri": "https://localhost:8080/"
    },
    "id": "r3Ua5FaFekpv",
    "outputId": "415ae492-3191-4eb3-88ca-a0f391a4194e"
   },
   "outputs": [
    {
     "name": "stdout",
     "output_type": "stream",
     "text": [
      "Number of customers with positive sentiment: 4\n",
      "Number of customers with negative sentiment: 11\n",
      "Number of customers with neutral sentiment: 5\n"
     ]
    }
   ],
   "source": [
    "#Now let us check the number of customer that have positive, negative and neutral sentimental score\n",
    "\n",
    "print(\"Number of customers with positive sentiment:\", (customer_data[\"Sentiment_Score\"] > 0).sum())\n",
    "print(\"Number of customers with negative sentiment:\", (customer_data[\"Sentiment_Score\"] < 0).sum())\n",
    "print(\"Number of customers with neutral sentiment:\", (customer_data[\"Sentiment_Score\"] == 0).sum())\n"
   ]
  },
  {
   "cell_type": "code",
   "execution_count": 61,
   "metadata": {},
   "outputs": [],
   "source": [
    "## Tasks 2: Customer Segmentation: \n",
    "##Use K-Means Clustering or another algorithm to group customers based on behavior patterns."
   ]
  },
  {
   "cell_type": "code",
   "execution_count": 62,
   "metadata": {
    "id": "BYHDuD8Jevny"
   },
   "outputs": [
    {
     "name": "stderr",
     "output_type": "stream",
     "text": [
      "C:\\Users\\sachi\\anaconda3\\Lib\\site-packages\\sklearn\\cluster\\_kmeans.py:1382: UserWarning: KMeans is known to have a memory leak on Windows with MKL, when there are less chunks than available threads. You can avoid it by setting the environment variable OMP_NUM_THREADS=1.\n",
      "  warnings.warn(\n"
     ]
    }
   ],
   "source": [
    "from sklearn.cluster import KMeans\n",
    "\n",
    "kmeans = KMeans(n_clusters=3, random_state=42, n_init=10)  # KMeans with 3 clusters\n",
    "customer_data[\"Segment\"] = kmeans.fit_predict(customer_data[[\"Booking_Frequency\", \"Avg_Spending\"]])\n"
   ]
  },
  {
   "cell_type": "code",
   "execution_count": 63,
   "metadata": {},
   "outputs": [],
   "source": [
    "# so we assign Segment 0, Segment 1, or Segment 2\n",
    "#to each customer based on similar behavior patterns."
   ]
  },
  {
   "cell_type": "code",
   "execution_count": 64,
   "metadata": {},
   "outputs": [],
   "source": [
    "# I have made an assumptions based on business domain"
   ]
  },
  {
   "cell_type": "code",
   "execution_count": 65,
   "metadata": {
    "id": "1LjrTpYhevfh"
   },
   "outputs": [],
   "source": [
    "high_value_customers = customer_data[customer_data[\"Avg_Spending\"] > 1.0]\n",
    "at_risk_customers = customer_data[customer_data[\"Sentiment_Score\"] < 0]"
   ]
  },
  {
   "cell_type": "code",
   "execution_count": 66,
   "metadata": {
    "colab": {
     "base_uri": "https://localhost:8080/"
    },
    "id": "vXAKY5pheklB",
    "outputId": "03e6e1f6-1ea2-4cc4-f158-90ad75a85176"
   },
   "outputs": [
    {
     "name": "stdout",
     "output_type": "stream",
     "text": [
      "High-Value Customers:\n",
      "5     1006\n",
      "12    1013\n",
      "14    1015\n",
      "16    1017\n",
      "Name: Customer_ID, dtype: int32\n",
      "\n",
      "At-Risk Customers:\n",
      "0     1001\n",
      "1     1002\n",
      "2     1003\n",
      "7     1008\n",
      "8     1009\n",
      "9     1010\n",
      "10    1011\n",
      "14    1015\n",
      "15    1016\n",
      "18    1019\n",
      "19    1020\n",
      "Name: Customer_ID, dtype: int32\n"
     ]
    }
   ],
   "source": [
    "print(\"High-Value Customers:\")\n",
    "print(high_value_customers[\"Customer_ID\"])\n",
    "\n",
    "print(\"\\nAt-Risk Customers:\")\n",
    "print(at_risk_customers[\"Customer_ID\"])\n",
    "\n",
    "\n",
    "# SO here is all customer ID who are high valued as well as at risk customer"
   ]
  },
  {
   "cell_type": "code",
   "execution_count": 67,
   "metadata": {},
   "outputs": [],
   "source": [
    "\n",
    "# Finally, we summarize key insights:\n",
    "# Total customers analyzed\n",
    "# High-value customer count\n",
    "# At-risk customer count\n",
    "# Number of customers per segment"
   ]
  },
  {
   "cell_type": "code",
   "execution_count": 68,
   "metadata": {
    "colab": {
     "base_uri": "https://localhost:8080/"
    },
    "id": "6RwzpFaxe1gU",
    "outputId": "ea05e246-85ed-48cd-82af-c39403b35081"
   },
   "outputs": [
    {
     "name": "stdout",
     "output_type": "stream",
     "text": [
      "{'Total_Customers': 20, 'High_Value_Customers': 4, 'At_Risk_Customers': 11, 'Customer_Segments': {2: 10, 1: 5, 0: 5}}\n"
     ]
    }
   ],
   "source": [
    "summary_insights = {\n",
    "    \"Total_Customers\": len(customer_data),\n",
    "    \"High_Value_Customers\": len(high_value_customers),\n",
    "    \"At_Risk_Customers\": len(at_risk_customers),\n",
    "    \"Customer_Segments\": customer_data[\"Segment\"].value_counts().to_dict()\n",
    "}\n",
    "print(summary_insights)"
   ]
  },
  {
   "cell_type": "code",
   "execution_count": null,
   "metadata": {
    "id": "_01c3QcEe1yy"
   },
   "outputs": [],
   "source": []
  },
  {
   "cell_type": "markdown",
   "metadata": {
    "id": "EO34pFXke4jJ"
   },
   "source": [
    "## **Section 2: AI-powered Personalisation Model**"
   ]
  },
  {
   "cell_type": "code",
   "execution_count": 69,
   "metadata": {},
   "outputs": [],
   "source": [
    "# Task: Train a recommendation model \n",
    "#that suggests services based on past customer behavior and preferences."
   ]
  },
  {
   "cell_type": "code",
   "execution_count": 70,
   "metadata": {
    "id": "BJxDB_lce33o"
   },
   "outputs": [],
   "source": [
    "import numpy as np\n",
    "import pandas as pd\n",
    "# having copy of original dataframe\n",
    "\n",
    "df = customer_data"
   ]
  },
  {
   "cell_type": "code",
   "execution_count": 71,
   "metadata": {
    "id": "sRdeCDuqe4Nx"
   },
   "outputs": [],
   "source": [
    "# I am going to implement content based recommendation\n",
    "\n",
    "from sklearn.preprocessing import LabelEncoder, StandardScaler\n",
    "from sklearn.neighbors import NearestNeighbors\n",
    "import joblib\n"
   ]
  },
  {
   "cell_type": "code",
   "execution_count": 72,
   "metadata": {
    "id": "I_nx0iD6fHdE"
   },
   "outputs": [],
   "source": [
    "label_encoder = LabelEncoder()\n",
    "df[\"Service_ID\"] = label_encoder.fit_transform(df[\"Preferred_Service\"])"
   ]
  },
  {
   "cell_type": "code",
   "execution_count": 73,
   "metadata": {},
   "outputs": [],
   "source": [
    "df.to_csv(\"refined_customer_data.csv\", index = False)"
   ]
  },
  {
   "cell_type": "code",
   "execution_count": 74,
   "metadata": {},
   "outputs": [],
   "source": [
    "##I am going to build a Content-Based Recommender (Using KNN for similarity between content)"
   ]
  },
  {
   "cell_type": "code",
   "execution_count": 75,
   "metadata": {
    "colab": {
     "base_uri": "https://localhost:8080/",
     "height": 80
    },
    "id": "8EprD7C8fHXn",
    "outputId": "6aacb362-8554-450c-ce17-1141e5c784af"
   },
   "outputs": [
    {
     "data": {
      "text/html": [
       "<style>#sk-container-id-2 {color: black;background-color: white;}#sk-container-id-2 pre{padding: 0;}#sk-container-id-2 div.sk-toggleable {background-color: white;}#sk-container-id-2 label.sk-toggleable__label {cursor: pointer;display: block;width: 100%;margin-bottom: 0;padding: 0.3em;box-sizing: border-box;text-align: center;}#sk-container-id-2 label.sk-toggleable__label-arrow:before {content: \"▸\";float: left;margin-right: 0.25em;color: #696969;}#sk-container-id-2 label.sk-toggleable__label-arrow:hover:before {color: black;}#sk-container-id-2 div.sk-estimator:hover label.sk-toggleable__label-arrow:before {color: black;}#sk-container-id-2 div.sk-toggleable__content {max-height: 0;max-width: 0;overflow: hidden;text-align: left;background-color: #f0f8ff;}#sk-container-id-2 div.sk-toggleable__content pre {margin: 0.2em;color: black;border-radius: 0.25em;background-color: #f0f8ff;}#sk-container-id-2 input.sk-toggleable__control:checked~div.sk-toggleable__content {max-height: 200px;max-width: 100%;overflow: auto;}#sk-container-id-2 input.sk-toggleable__control:checked~label.sk-toggleable__label-arrow:before {content: \"▾\";}#sk-container-id-2 div.sk-estimator input.sk-toggleable__control:checked~label.sk-toggleable__label {background-color: #d4ebff;}#sk-container-id-2 div.sk-label input.sk-toggleable__control:checked~label.sk-toggleable__label {background-color: #d4ebff;}#sk-container-id-2 input.sk-hidden--visually {border: 0;clip: rect(1px 1px 1px 1px);clip: rect(1px, 1px, 1px, 1px);height: 1px;margin: -1px;overflow: hidden;padding: 0;position: absolute;width: 1px;}#sk-container-id-2 div.sk-estimator {font-family: monospace;background-color: #f0f8ff;border: 1px dotted black;border-radius: 0.25em;box-sizing: border-box;margin-bottom: 0.5em;}#sk-container-id-2 div.sk-estimator:hover {background-color: #d4ebff;}#sk-container-id-2 div.sk-parallel-item::after {content: \"\";width: 100%;border-bottom: 1px solid gray;flex-grow: 1;}#sk-container-id-2 div.sk-label:hover label.sk-toggleable__label {background-color: #d4ebff;}#sk-container-id-2 div.sk-serial::before {content: \"\";position: absolute;border-left: 1px solid gray;box-sizing: border-box;top: 0;bottom: 0;left: 50%;z-index: 0;}#sk-container-id-2 div.sk-serial {display: flex;flex-direction: column;align-items: center;background-color: white;padding-right: 0.2em;padding-left: 0.2em;position: relative;}#sk-container-id-2 div.sk-item {position: relative;z-index: 1;}#sk-container-id-2 div.sk-parallel {display: flex;align-items: stretch;justify-content: center;background-color: white;position: relative;}#sk-container-id-2 div.sk-item::before, #sk-container-id-2 div.sk-parallel-item::before {content: \"\";position: absolute;border-left: 1px solid gray;box-sizing: border-box;top: 0;bottom: 0;left: 50%;z-index: -1;}#sk-container-id-2 div.sk-parallel-item {display: flex;flex-direction: column;z-index: 1;position: relative;background-color: white;}#sk-container-id-2 div.sk-parallel-item:first-child::after {align-self: flex-end;width: 50%;}#sk-container-id-2 div.sk-parallel-item:last-child::after {align-self: flex-start;width: 50%;}#sk-container-id-2 div.sk-parallel-item:only-child::after {width: 0;}#sk-container-id-2 div.sk-dashed-wrapped {border: 1px dashed gray;margin: 0 0.4em 0.5em 0.4em;box-sizing: border-box;padding-bottom: 0.4em;background-color: white;}#sk-container-id-2 div.sk-label label {font-family: monospace;font-weight: bold;display: inline-block;line-height: 1.2em;}#sk-container-id-2 div.sk-label-container {text-align: center;}#sk-container-id-2 div.sk-container {/* jupyter's `normalize.less` sets `[hidden] { display: none; }` but bootstrap.min.css set `[hidden] { display: none !important; }` so we also need the `!important` here to be able to override the default hidden behavior on the sphinx rendered scikit-learn.org. See: https://github.com/scikit-learn/scikit-learn/issues/21755 */display: inline-block !important;position: relative;}#sk-container-id-2 div.sk-text-repr-fallback {display: none;}</style><div id=\"sk-container-id-2\" class=\"sk-top-container\"><div class=\"sk-text-repr-fallback\"><pre>NearestNeighbors(metric=&#x27;euclidean&#x27;, n_neighbors=3)</pre><b>In a Jupyter environment, please rerun this cell to show the HTML representation or trust the notebook. <br />On GitHub, the HTML representation is unable to render, please try loading this page with nbviewer.org.</b></div><div class=\"sk-container\" hidden><div class=\"sk-item\"><div class=\"sk-estimator sk-toggleable\"><input class=\"sk-toggleable__control sk-hidden--visually\" id=\"sk-estimator-id-2\" type=\"checkbox\" checked><label for=\"sk-estimator-id-2\" class=\"sk-toggleable__label sk-toggleable__label-arrow\">NearestNeighbors</label><div class=\"sk-toggleable__content\"><pre>NearestNeighbors(metric=&#x27;euclidean&#x27;, n_neighbors=3)</pre></div></div></div></div></div>"
      ],
      "text/plain": [
       "NearestNeighbors(metric='euclidean', n_neighbors=3)"
      ]
     },
     "execution_count": 75,
     "metadata": {},
     "output_type": "execute_result"
    }
   ],
   "source": [
    "features = df[[\"Booking_Frequency\", \"Avg_Spending\", \"Service_ID\"]]\n",
    "knn = NearestNeighbors(n_neighbors=3, metric='euclidean')\n",
    "knn.fit(features)"
   ]
  },
  {
   "cell_type": "code",
   "execution_count": 76,
   "metadata": {},
   "outputs": [],
   "source": [
    "## Make Predictions for Customer (Recommendation)"
   ]
  },
  {
   "cell_type": "code",
   "execution_count": 77,
   "metadata": {
    "id": "ZJOGU1EDfHNo"
   },
   "outputs": [],
   "source": [
    "\n",
    "def recommend(customer_id):\n",
    "   # here I am goin g to find customer data\n",
    "    customer_data = df[df[\"Customer_ID\"] == customer_id][[\"Booking_Frequency\", \"Avg_Spending\", \"Service_ID\"]]\n",
    "\n",
    "\n",
    "    distances, indices = knn.kneighbors(customer_data)\n",
    "\n",
    "    recommendations = df.iloc[indices[0]][\"Preferred_Service\"].values\n",
    "    return recommendations\n"
   ]
  },
  {
   "cell_type": "code",
   "execution_count": 78,
   "metadata": {
    "colab": {
     "base_uri": "https://localhost:8080/"
    },
    "id": "8oM9IKAjfNVm",
    "outputId": "7fe9a063-714e-4bd1-916b-64cc281d073d"
   },
   "outputs": [
    {
     "name": "stdout",
     "output_type": "stream",
     "text": [
      "Recommended services for Customer 1001: Massage\n"
     ]
    }
   ],
   "source": [
    "# Example: Get recommendations for Customer 1001\n",
    "recommended_services = recommend(1001)[0]\n",
    "print(f\"Recommended services for Customer 1001: {recommended_services}\")"
   ]
  },
  {
   "cell_type": "code",
   "execution_count": 79,
   "metadata": {
    "colab": {
     "base_uri": "https://localhost:8080/"
    },
    "id": "j8HUdtAJfNL1",
    "outputId": "6f78cecf-e640-4a23-d2cd-8d812404ce42"
   },
   "outputs": [
    {
     "name": "stdout",
     "output_type": "stream",
     "text": [
      "['Massage']\n",
      "-------\n",
      "['Massage']\n",
      "['Massage', 'Wellness Package']\n",
      "-------\n",
      "['Massage', 'Wellness Package']\n",
      "['Massage', 'Wellness Package', 'Massage']\n",
      "-------\n",
      "['Massage', 'Wellness Package', 'Massage']\n",
      "['Massage', 'Wellness Package', 'Massage', 'Wellness Package']\n",
      "-------\n",
      "['Massage', 'Wellness Package', 'Massage', 'Wellness Package']\n",
      "['Massage', 'Wellness Package', 'Massage', 'Wellness Package', 'Wellness Package']\n",
      "-------\n",
      "['Massage', 'Wellness Package', 'Massage', 'Wellness Package', 'Wellness Package']\n",
      "['Massage', 'Wellness Package', 'Massage', 'Wellness Package', 'Wellness Package', 'Massage']\n",
      "-------\n",
      "['Massage', 'Wellness Package', 'Massage', 'Wellness Package', 'Wellness Package', 'Massage']\n",
      "['Massage', 'Wellness Package', 'Massage', 'Wellness Package', 'Wellness Package', 'Massage', 'Massage']\n",
      "-------\n",
      "['Massage', 'Wellness Package', 'Massage', 'Wellness Package', 'Wellness Package', 'Massage', 'Massage']\n",
      "['Massage', 'Wellness Package', 'Massage', 'Wellness Package', 'Wellness Package', 'Massage', 'Massage', 'Wellness Package']\n",
      "-------\n",
      "['Massage', 'Wellness Package', 'Massage', 'Wellness Package', 'Wellness Package', 'Massage', 'Massage', 'Wellness Package']\n",
      "['Massage', 'Wellness Package', 'Massage', 'Wellness Package', 'Wellness Package', 'Massage', 'Massage', 'Wellness Package', 'Facial']\n",
      "-------\n",
      "['Massage', 'Wellness Package', 'Massage', 'Wellness Package', 'Wellness Package', 'Massage', 'Massage', 'Wellness Package', 'Facial']\n",
      "['Massage', 'Wellness Package', 'Massage', 'Wellness Package', 'Wellness Package', 'Massage', 'Massage', 'Wellness Package', 'Facial', 'Therapy']\n",
      "-------\n",
      "['Massage', 'Wellness Package', 'Massage', 'Wellness Package', 'Wellness Package', 'Massage', 'Massage', 'Wellness Package', 'Facial', 'Therapy']\n",
      "['Massage', 'Wellness Package', 'Massage', 'Wellness Package', 'Wellness Package', 'Massage', 'Massage', 'Wellness Package', 'Facial', 'Therapy', 'Massage']\n",
      "-------\n",
      "['Massage', 'Wellness Package', 'Massage', 'Wellness Package', 'Wellness Package', 'Massage', 'Massage', 'Wellness Package', 'Facial', 'Therapy', 'Massage']\n",
      "['Massage', 'Wellness Package', 'Massage', 'Wellness Package', 'Wellness Package', 'Massage', 'Massage', 'Wellness Package', 'Facial', 'Therapy', 'Massage', 'Therapy']\n",
      "-------\n",
      "['Massage', 'Wellness Package', 'Massage', 'Wellness Package', 'Wellness Package', 'Massage', 'Massage', 'Wellness Package', 'Facial', 'Therapy', 'Massage', 'Therapy']\n",
      "['Massage', 'Wellness Package', 'Massage', 'Wellness Package', 'Wellness Package', 'Massage', 'Massage', 'Wellness Package', 'Facial', 'Therapy', 'Massage', 'Therapy', 'Facial']\n",
      "-------\n",
      "['Massage', 'Wellness Package', 'Massage', 'Wellness Package', 'Wellness Package', 'Massage', 'Massage', 'Wellness Package', 'Facial', 'Therapy', 'Massage', 'Therapy', 'Facial']\n",
      "['Massage', 'Wellness Package', 'Massage', 'Wellness Package', 'Wellness Package', 'Massage', 'Massage', 'Wellness Package', 'Facial', 'Therapy', 'Massage', 'Therapy', 'Facial', 'Facial']\n",
      "-------\n",
      "['Massage', 'Wellness Package', 'Massage', 'Wellness Package', 'Wellness Package', 'Massage', 'Massage', 'Wellness Package', 'Facial', 'Therapy', 'Massage', 'Therapy', 'Facial', 'Facial']\n",
      "['Massage', 'Wellness Package', 'Massage', 'Wellness Package', 'Wellness Package', 'Massage', 'Massage', 'Wellness Package', 'Facial', 'Therapy', 'Massage', 'Therapy', 'Facial', 'Facial', 'Facial']\n",
      "-------\n",
      "['Massage', 'Wellness Package', 'Massage', 'Wellness Package', 'Wellness Package', 'Massage', 'Massage', 'Wellness Package', 'Facial', 'Therapy', 'Massage', 'Therapy', 'Facial', 'Facial', 'Facial']\n",
      "['Massage', 'Wellness Package', 'Massage', 'Wellness Package', 'Wellness Package', 'Massage', 'Massage', 'Wellness Package', 'Facial', 'Therapy', 'Massage', 'Therapy', 'Facial', 'Facial', 'Facial', 'Massage']\n",
      "-------\n",
      "['Massage', 'Wellness Package', 'Massage', 'Wellness Package', 'Wellness Package', 'Massage', 'Massage', 'Wellness Package', 'Facial', 'Therapy', 'Massage', 'Therapy', 'Facial', 'Facial', 'Facial', 'Massage']\n",
      "['Massage', 'Wellness Package', 'Massage', 'Wellness Package', 'Wellness Package', 'Massage', 'Massage', 'Wellness Package', 'Facial', 'Therapy', 'Massage', 'Therapy', 'Facial', 'Facial', 'Facial', 'Massage', 'Facial']\n",
      "-------\n",
      "['Massage', 'Wellness Package', 'Massage', 'Wellness Package', 'Wellness Package', 'Massage', 'Massage', 'Wellness Package', 'Facial', 'Therapy', 'Massage', 'Therapy', 'Facial', 'Facial', 'Facial', 'Massage', 'Facial']\n",
      "['Massage', 'Wellness Package', 'Massage', 'Wellness Package', 'Wellness Package', 'Massage', 'Massage', 'Wellness Package', 'Facial', 'Therapy', 'Massage', 'Therapy', 'Facial', 'Facial', 'Facial', 'Massage', 'Facial', 'Massage']\n",
      "-------\n",
      "['Massage', 'Wellness Package', 'Massage', 'Wellness Package', 'Wellness Package', 'Massage', 'Massage', 'Wellness Package', 'Facial', 'Therapy', 'Massage', 'Therapy', 'Facial', 'Facial', 'Facial', 'Massage', 'Facial', 'Massage']\n",
      "['Massage', 'Wellness Package', 'Massage', 'Wellness Package', 'Wellness Package', 'Massage', 'Massage', 'Wellness Package', 'Facial', 'Therapy', 'Massage', 'Therapy', 'Facial', 'Facial', 'Facial', 'Massage', 'Facial', 'Massage', 'Facial']\n",
      "-------\n",
      "['Massage', 'Wellness Package', 'Massage', 'Wellness Package', 'Wellness Package', 'Massage', 'Massage', 'Wellness Package', 'Facial', 'Therapy', 'Massage', 'Therapy', 'Facial', 'Facial', 'Facial', 'Massage', 'Facial', 'Massage', 'Facial']\n",
      "['Massage', 'Wellness Package', 'Massage', 'Wellness Package', 'Wellness Package', 'Massage', 'Massage', 'Wellness Package', 'Facial', 'Therapy', 'Massage', 'Therapy', 'Facial', 'Facial', 'Facial', 'Massage', 'Facial', 'Massage', 'Facial', 'Therapy']\n",
      "-------\n",
      "['Massage', 'Wellness Package', 'Massage', 'Wellness Package', 'Wellness Package', 'Massage', 'Massage', 'Wellness Package', 'Facial', 'Therapy', 'Massage', 'Therapy', 'Facial', 'Facial', 'Facial', 'Massage', 'Facial', 'Massage', 'Facial', 'Therapy']\n",
      "Precision: 1.0\n",
      "Recall: 1.0\n",
      "F1-Score: 1.0\n"
     ]
    }
   ],
   "source": [
    "from sklearn.metrics import mean_squared_error, precision_recall_fscore_support\n",
    "def evaluate_model():\n",
    "    y_true = []\n",
    "    y_pred = []\n",
    "    true_services = []\n",
    "\n",
    "    # For each customer in the dataset, generate recommendations\n",
    "    for customer_id in df[\"Customer_ID\"]:\n",
    "        recommended_services = recommend(customer_id)\n",
    "        true_services.append(df[df[\"Customer_ID\"] == customer_id][\"Preferred_Service\"].values[0])\n",
    "        y_true.append(df[df[\"Customer_ID\"] == customer_id][\"Preferred_Service\"].values[0])\n",
    "        print(y_true)\n",
    "        print(\"-------\")\n",
    "        y_pred.append(recommended_services[0])\n",
    "\n",
    "        print(y_pred)\n",
    "\n",
    "    # Calculate precision, recall, and F1-score\n",
    "    precision, recall, f1_score, _ = precision_recall_fscore_support(y_true, y_pred, average='micro')\n",
    "\n",
    "    # Calculate Mean Squared Error (MSE)\n",
    "    #mse = mean_squared_error(true_services, y_pred)\n",
    "\n",
    "    # Print Evaluation Results\n",
    "    print(\"Precision:\", precision)\n",
    "    print(\"Recall:\", recall)\n",
    "    print(\"F1-Score:\", f1_score)\n",
    "\n",
    "\n",
    "# Run the evaluation\n",
    "evaluate_model()"
   ]
  },
  {
   "cell_type": "code",
   "execution_count": 80,
   "metadata": {},
   "outputs": [],
   "source": [
    "# saving model for later flask tasks"
   ]
  },
  {
   "cell_type": "code",
   "execution_count": 81,
   "metadata": {
    "colab": {
     "base_uri": "https://localhost:8080/"
    },
    "id": "WqAchszjfNFo",
    "outputId": "8647ccc7-860f-485a-8de1-360fe05f6f03"
   },
   "outputs": [
    {
     "data": {
      "text/plain": [
       "['recommendation_model.pkl']"
      ]
     },
     "execution_count": 81,
     "metadata": {},
     "output_type": "execute_result"
    }
   ],
   "source": [
    "joblib.dump(knn, \"recommendation_model.pkl\")"
   ]
  },
  {
   "cell_type": "markdown",
   "metadata": {
    "id": "plGm0UqxfM9C"
   },
   "source": [
    "### **Section 3: AI Automation – NLP Chatbot for Customer Queries and Actions**"
   ]
  },
  {
   "cell_type": "code",
   "execution_count": 82,
   "metadata": {
    "colab": {
     "base_uri": "https://localhost:8080/"
    },
    "id": "GlKmhdKoY-KI",
    "outputId": "f26f128e-abd7-4147-b0d0-6094f0d02762"
   },
   "outputs": [],
   "source": [
    "# !pip install spacy scikit-learn joblib\n",
    "# !python -m spacy download en_core_web_sm"
   ]
  },
  {
   "cell_type": "code",
   "execution_count": 83,
   "metadata": {
    "colab": {
     "base_uri": "https://localhost:8080/"
    },
    "id": "R3so2djqb31a",
    "outputId": "2163b0cf-ec8c-4932-9101-0538b39c8965"
   },
   "outputs": [
    {
     "name": "stdout",
     "output_type": "stream",
     "text": [
      "Chatbot model trained and saved!\n"
     ]
    }
   ],
   "source": [
    "import spacy\n",
    "import pandas as pd\n",
    "from sklearn.model_selection import train_test_split\n",
    "from sklearn.feature_extraction.text import TfidfVectorizer\n",
    "from sklearn.naive_bayes import MultinomialNB\n",
    "import joblib\n",
    "\n",
    "# I am going to create sample dataset of customer queries\n",
    "data = {\n",
    "    'query': [\n",
    "        \"Can I reschedule my booking?\",\n",
    "        \"I'd like to cancel my appointment.\",\n",
    "        \"How much is the massage session?\",\n",
    "        \"Can I change the time for my appointment?\",\n",
    "        \"I want to book a facial session.\",\n",
    "        \"What is the price for a wellness package?\",\n",
    "        \"Please cancel my booking.\",\n",
    "        \"I need to reschedule my booking to next week.\",\n",
    "        \"How do I book a massage?\"\n",
    "    ],\n",
    "    'intent': [\n",
    "        \"reschedule\",\n",
    "        \"cancel\",\n",
    "        \"price\",\n",
    "        \"reschedule\",\n",
    "        \"book\",\n",
    "        \"price\",\n",
    "        \"cancel\",\n",
    "        \"reschedule\",\n",
    "        \"book\"\n",
    "    ]\n",
    "}\n",
    "\n",
    "# query: related questions, and intent is like the direction for query \n",
    "\n",
    "df = pd.DataFrame(data)\n",
    "\n",
    "#  I am going to preprocess text data with spaCy\n",
    "nlp = spacy.load(\"en_core_web_sm\")\n",
    "\n",
    "# removing punctuation \n",
    "def preprocess(text):\n",
    "    doc = nlp(text)\n",
    "    return \" \".join([token.lemma_ for token in doc if not token.is_stop and not token.is_punct])\n",
    "\n",
    "df['processed_query'] = df['query'].apply(preprocess)\n",
    "\n",
    "\n",
    "X_train, X_test, y_train, y_test = train_test_split(df['processed_query'], df['intent'], test_size=0.3, random_state=42)\n",
    "\n",
    "#  Convert text data into feature vectors using TF-IDF\n",
    "vectorizer = TfidfVectorizer()\n",
    "X_train_tfidf = vectorizer.fit_transform(X_train)\n",
    "X_test_tfidf = vectorizer.transform(X_test)\n",
    "\n",
    "#  Train a Naive Bayes classifier for intent classification: for each query mapping to intent\n",
    "model = MultinomialNB() \n",
    "model.fit(X_train_tfidf, y_train)\n",
    "\n",
    "#Saving the trained chatbot model\n",
    "joblib.dump(model, 'chatbot_model.pkl')\n",
    "joblib.dump(vectorizer, 'vectorizer.pkl')\n",
    "\n",
    "print(\"Chatbot model trained and saved!\")"
   ]
  },
  {
   "cell_type": "markdown",
   "metadata": {
    "id": "XNqf9nc9cGi5"
   },
   "source": [
    "Simulate chatbot interaction with customer queries"
   ]
  },
  {
   "cell_type": "code",
   "execution_count": 84,
   "metadata": {
    "colab": {
     "base_uri": "https://localhost:8080/"
    },
    "id": "j3gHTefFcGIJ",
    "outputId": "5a5985ca-a1ba-4575-d697-7cd664485b02"
   },
   "outputs": [
    {
     "name": "stdout",
     "output_type": "stream",
     "text": [
      "Yes, you can reschedule your booking through the Blys app. Would you like me to assist you?\n",
      "I can help you with booking. Which service would you like to book?\n"
     ]
    }
   ],
   "source": [
    "# Loading the trained model and vectorizer\n",
    "chatbot_model = joblib.load('chatbot_model.pkl')\n",
    "vectorizer = joblib.load('vectorizer.pkl')\n",
    "\n",
    "def get_intent(query):\n",
    "   \n",
    "    processed_query = preprocess(query)\n",
    "\n",
    "    # Convert the query into a feature vector\n",
    "    query_tfidf = vectorizer.transform([processed_query])\n",
    "\n",
    "    # Predict the intent of the query\n",
    "    intent = chatbot_model.predict(query_tfidf)\n",
    "    return intent[0]\n",
    "\n",
    "def chatbot_response(query):\n",
    "    intent = get_intent(query)\n",
    "\n",
    "    # This response can be customized based on the intent\n",
    "    if intent == 'reschedule':\n",
    "        return \"Yes, you can reschedule your booking through the Blys app. Would you like me to assist you?\"\n",
    "    elif intent == 'cancel':\n",
    "        return \"Sure, I can help with that. I will proceed with your cancellation request.\"\n",
    "    elif intent == 'price':\n",
    "        return \"The price depends on the service you're interested in. Could you please specify the service?\"\n",
    "    elif intent == 'book':\n",
    "        return \"I can help you with booking. Which service would you like to book?\"\n",
    "    else:\n",
    "        return \"Sorry, I couldn't understand your request. Could you please rephrase?\"\n",
    "\n",
    "# Example of interacting with the chatbot\n",
    "print(chatbot_response(\"Can I reschedule my booking?\"))\n",
    "print(chatbot_response(\"How much is the massage session?\"))\n"
   ]
  },
  {
   "cell_type": "code",
   "execution_count": 85,
   "metadata": {
    "id": "u32QzbKmcelB"
   },
   "outputs": [],
   "source": [
    "def handle_reschedule(new_date_time):\n",
    "    # Simulate rescheduling logic\n",
    "    return f\"Sent reschedule information to pro, you will get notified once it's confirmed. Your new booking time is {new_date_time}\""
   ]
  },
  {
   "cell_type": "code",
   "execution_count": 86,
   "metadata": {
    "colab": {
     "base_uri": "https://localhost:8080/"
    },
    "id": "knG5rE8WcoKa",
    "outputId": "90db837d-571e-4a12-a380-86ab1e61a83e"
   },
   "outputs": [
    {
     "name": "stdout",
     "output_type": "stream",
     "text": [
      "Yes, you can reschedule your booking through the Blys app. Would you like me to assist you?\n",
      "I can help you with booking. Which service would you like to book?\n",
      "Please provide the new date that you would like to reschedule your booking at\n",
      "Sent reschedule information to pro, you will get notified once it's confirmed. Your new booking time is 30 Mar 2025 10 am\n"
     ]
    }
   ],
   "source": [
    "# Example for resecheduling the boooking\n",
    "print(chatbot_response(\"Can I reschedule my booking?\"))\n",
    "print(chatbot_response(\"Yes\"))\n",
    "print(\"Please provide the new date that you would like to reschedule your booking at\")\n",
    "print(handle_reschedule(\"30 Mar 2025 10 am\"))\n"
   ]
  },
  {
   "cell_type": "markdown",
   "metadata": {
    "id": "iafqKTfhcucR"
   },
   "source": [
    "### **Section 4: AI-powered API Development**"
   ]
  },
  {
   "cell_type": "code",
   "execution_count": null,
   "metadata": {},
   "outputs": [],
   "source": [
    "# In  file named:  api.py"
   ]
  }
 ],
 "metadata": {
  "colab": {
   "provenance": []
  },
  "kernelspec": {
   "display_name": "Python 3 (ipykernel)",
   "language": "python",
   "name": "python3"
  },
  "language_info": {
   "codemirror_mode": {
    "name": "ipython",
    "version": 3
   },
   "file_extension": ".py",
   "mimetype": "text/x-python",
   "name": "python",
   "nbconvert_exporter": "python",
   "pygments_lexer": "ipython3",
   "version": "3.11.3"
  }
 },
 "nbformat": 4,
 "nbformat_minor": 4
}
