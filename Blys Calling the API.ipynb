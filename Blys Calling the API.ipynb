{
 "cells": [
  {
   "cell_type": "code",
   "execution_count": 15,
   "id": "182cdaf5-369b-4126-b817-be54a9d07b8e",
   "metadata": {},
   "outputs": [
    {
     "name": "stdout",
     "output_type": "stream",
     "text": [
      "Recommendation Response: {'recommendations': 'Massage'}\n",
      "Chatbot Response: {'response': 'Yes, you can reschedule your booking through the Blys app. Would you like me to assist you?'}\n"
     ]
    }
   ],
   "source": [
    "import requests\n",
    "\n",
    "# Replace with your Flask ngrok URL\n",
    "BASE_URL = \"http://127.0.0.1:5000\"\n",
    "\n",
    "# Call Recommendation API\n",
    "response = requests.post(f\"{BASE_URL}/recommend\", json={\"customer_id\": 1016})\n",
    "print(\"Recommendation Response:\", response.json())\n",
    "\n",
    "# Call Chatbot API\n",
    "response = requests.post(f\"{BASE_URL}/chatbot\", json={\"query\": \"Can I reschedule the booking\"})\n",
    "print(\"Chatbot Response:\", response.json())"
   ]
  }
 ],
 "metadata": {
  "kernelspec": {
   "display_name": "Python 3 (ipykernel)",
   "language": "python",
   "name": "python3"
  },
  "language_info": {
   "codemirror_mode": {
    "name": "ipython",
    "version": 3
   },
   "file_extension": ".py",
   "mimetype": "text/x-python",
   "name": "python",
   "nbconvert_exporter": "python",
   "pygments_lexer": "ipython3",
   "version": "3.11.3"
  }
 },
 "nbformat": 4,
 "nbformat_minor": 5
}
